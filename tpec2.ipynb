{
  "nbformat": 4,
  "nbformat_minor": 0,
  "metadata": {
    "colab": {
      "provenance": [],
      "authorship_tag": "ABX9TyPVuUTmWSvpRn8JUofQvVO7"
    },
    "kernelspec": {
      "name": "python3",
      "display_name": "Python 3"
    },
    "language_info": {
      "name": "python"
    }
  },
  "cells": [
    {
      "cell_type": "code",
      "execution_count": 1,
      "metadata": {
        "colab": {
          "base_uri": "https://localhost:8080/"
        },
        "id": "7Few3oqfWGMq",
        "outputId": "7dd577f0-4cce-44d8-e081-13b2d300fb2f"
      },
      "outputs": [
        {
          "output_type": "stream",
          "name": "stdout",
          "text": [
            "Sorting\n",
            "g i n o r t S\n"
          ]
        }
      ],
      "source": [
        "S=input()\n",
        "def s(x):\n",
        "  if x.islower():\n",
        "    return ord(x)\n",
        "  elif x.isupper():\n",
        "    return ord(x)*100000\n",
        "  elif x in \"13579\":\n",
        "    return ord(x)*10000000000\n",
        "  else:\n",
        "    return ord(x)*1000000000000000000\n",
        "print(*sorted(S,key=s),sep=' ')"
      ]
    },
    {
      "cell_type": "code",
      "source": [
        "import textwrap\n",
        "def wrap(string,max_width):\n",
        "  return textwrap.TextWrapper(width=max_width).fill(text=string)\n",
        "string,max_width = input(), int(input())\n",
        "result = wrap(string,max_width)\n",
        "print(result)"
      ],
      "metadata": {
        "colab": {
          "base_uri": "https://localhost:8080/"
        },
        "id": "tuZLGDU8aRuj",
        "outputId": "cc40ec94-27d2-4560-c493-622a8e4cd4fa"
      },
      "execution_count": 3,
      "outputs": [
        {
          "output_type": "stream",
          "name": "stdout",
          "text": [
            "ABCDEFGHIJKLIMNOQRSTUVWXYZ\n",
            "4\n",
            "ABCD\n",
            "EFGH\n",
            "IJKL\n",
            "IMNO\n",
            "QRST\n",
            "UVWX\n",
            "YZ\n"
          ]
        }
      ]
    },
    {
      "cell_type": "code",
      "source": [
        "def test_cubes(cubes):\n",
        "    t_cube = 0\n",
        "\n",
        "    if cubes[0] > cubes[len(cubes) - 1]:\n",
        "        t_cube = cubes[0]\n",
        "        cubes.pop(0)\n",
        "    else:\n",
        "        t_cube = cubes[len(cubes) - 1]\n",
        "        cubes.pop(len(cubes) - 1)\n",
        "\n",
        "\n",
        "    while len(cubes) > 0:\n",
        "       if t_cube == cubes[0]:\n",
        "        t_cube = cubes.pop(0)\n",
        "       elif t_cube == cubes[len(cubes) - 1]:\n",
        "        t_cube = cubes.pop(len(cubes) - 1)\n",
        "       elif (cubes[0] > cubes[len(cubes) - 1]) and (t_cube >= cubes[0]):\n",
        "        t_cube = cubes.pop(0)\n",
        "       elif (cubes[0] < cubes[len(cubes) - 1]) and (t_cube >= cubes[len(cubes) - 1]):\n",
        "        t_cube = cubes.pop(len(cubes) - 1)\n",
        "       elif cubes[0] == cubes[len(cubes) - 1]:\n",
        "        t_cube = cubes.pop(0)\n",
        "       else:\n",
        "        return \"no\"\n",
        "    return \"yes\"\n",
        "\n",
        "\n",
        "\n",
        "\n",
        "num_of_tests = int(input())\n",
        "\n",
        "\n",
        "for _ in range(num_of_tests):\n",
        "    input()\n",
        "    cubes = list(map(int, input().split()))\n",
        "    print(test_cubes(cubes))\n"
      ],
      "metadata": {
        "colab": {
          "base_uri": "https://localhost:8080/"
        },
        "id": "h3o-j34PclvK",
        "outputId": "e0cabb8b-2c00-4f1c-dbbb-e6ecd44176a1"
      },
      "execution_count": 4,
      "outputs": [
        {
          "output_type": "stream",
          "name": "stdout",
          "text": [
            "2\n",
            "6\n",
            "4 3 2 1 3 4\n",
            "yes\n",
            "3\n",
            "1 2 3\n",
            "yes\n"
          ]
        }
      ]
    },
    {
      "cell_type": "code",
      "source": [
        "k = int(input())\n",
        "rooms = (int(x) for x in input().split(' '))\n",
        "seen = {}\n",
        "for i in rooms:\n",
        "  if not i in seen:\n",
        "    seen[i]=1\n",
        "  else:\n",
        "    seen[i]+=1\n",
        "for key, val in seen.items():\n",
        "  if val!=k:\n",
        "    print(key)"
      ],
      "metadata": {
        "colab": {
          "base_uri": "https://localhost:8080/"
        },
        "id": "4ymFOmZQhPFC",
        "outputId": "6a047ff8-4dc0-4c71-cb2c-be324fd22896"
      },
      "execution_count": 6,
      "outputs": [
        {
          "output_type": "stream",
          "name": "stdout",
          "text": [
            "5\n",
            "1 2 3 6 5 4 4 2 5 3 6 1 6 5 3 2 4 1 2 5 1 4 3 6 8 4 3 1 5 6 2\n",
            "8\n"
          ]
        }
      ]
    },
    {
      "cell_type": "code",
      "source": [
        "from datetime import datetime\n",
        "t = int(input())\n",
        "for _ in range(t):\n",
        "  s1=input()\n",
        "  s2=input()\n",
        "  t1=datetime.strptime(s1,\"%a %d %b %Y %H:%M:%S %z\")\n",
        "  t2=datetime.strptime(s2,\"%a %d %b %Y %H:%M:%S %z\")\n",
        "  print(abs(int((t1-t2).total_seconds())))"
      ],
      "metadata": {
        "colab": {
          "base_uri": "https://localhost:8080/"
        },
        "id": "YcTbQbXUj1wE",
        "outputId": "8cb088d7-650e-49c2-dd5d-56f8152aa600"
      },
      "execution_count": 9,
      "outputs": [
        {
          "output_type": "stream",
          "name": "stdout",
          "text": [
            "2\n",
            "Sun 10 May 2015 13:54:36 -0700\n",
            "Sun 10 May 2015 13:54:36 -0000\n",
            "25200\n",
            "Sat 02 May 2015 19:54:36 +0530\n",
            "Fri 01 May 2015 13:54:36 -0000\n",
            "88200\n"
          ]
        }
      ]
    },
    {
      "cell_type": "code",
      "source": [
        "cube = lambda x: x**3\n",
        "def fibonacci(n):\n",
        "  a=[]\n",
        "  x=0\n",
        "  y=1\n",
        "  for i in range(0,n):\n",
        "    a+=[x]\n",
        "    x,y=y,x+y\n",
        "  return a\n",
        "\n",
        "n = int(input())\n",
        "print(list(map(cube, fibonacci(n))))"
      ],
      "metadata": {
        "colab": {
          "base_uri": "https://localhost:8080/"
        },
        "id": "YLh-YPjQlMNk",
        "outputId": "fd9c8074-860e-4cc2-e912-07afa45e4609"
      },
      "execution_count": 10,
      "outputs": [
        {
          "output_type": "stream",
          "name": "stdout",
          "text": [
            "5\n",
            "[0, 1, 1, 8, 27]\n"
          ]
        }
      ]
    },
    {
      "cell_type": "code",
      "source": [
        "import re\n",
        "n = int(input())\n",
        "\n",
        "p1=r'^[456]\\d{15}$|^[456]\\d{3}-\\d{4}-\\d{4}-\\d{4}$'\n",
        "p2=r'(\\d)(-?\\1){3}'\n",
        "for i in range(n):\n",
        " s = input()\n",
        " if (re.search(p1,s)):\n",
        "  if(re.search(p2,s)):\n",
        "    print(\"invalid\")\n",
        "  else:\n",
        "    print(\"valid\")\n",
        " else:\n",
        "  print(\"invalid\")"
      ],
      "metadata": {
        "colab": {
          "base_uri": "https://localhost:8080/"
        },
        "id": "YU9yTotTohfD",
        "outputId": "c8ef85ca-bd1f-4a24-dfad-f0a320b909ae"
      },
      "execution_count": 13,
      "outputs": [
        {
          "output_type": "stream",
          "name": "stdout",
          "text": [
            "6\n",
            "4123456789123456\n",
            "valid\n",
            "5123-4567-8912-3456\n",
            "valid\n",
            "61234-567-8912-3456\n",
            "invalid\n",
            "4123356789123456\n",
            "valid\n",
            "5133-3367-8912-3456\n",
            "invalid\n",
            "5123 - 3567 - 8912 - 3456\n",
            "invalid\n"
          ]
        }
      ]
    },
    {
      "cell_type": "code",
      "source": [
        "class Solution:\n",
        "  def climbStairs(self,n):\n",
        "    if n==1:\n",
        "      return 1\n",
        "    if n==2:\n",
        "      return 2\n",
        "    return self.climbStairs(n-1)+self.climbStairs(n-2)\n",
        "n = int (input())\n",
        "result = Solution().climbStairs(n)\n",
        "print(result)"
      ],
      "metadata": {
        "colab": {
          "base_uri": "https://localhost:8080/"
        },
        "id": "IaNUCZEJzTXN",
        "outputId": "2736e163-39bc-422c-fcf8-fb6c50324140"
      },
      "execution_count": 17,
      "outputs": [
        {
          "output_type": "stream",
          "name": "stdout",
          "text": [
            "4\n",
            "5\n"
          ]
        }
      ]
    },
    {
      "cell_type": "code",
      "source": [
        "class Solution:\n",
        "  def rob(self, nums):\n",
        "    if (len(nums)==1):\n",
        "      return nums[0]\n",
        "    prev,cur=0,0\n",
        "    for i in nums:\n",
        "      prev,cur = cur, max(prev+i,cur)\n",
        "    return cur\n",
        "nums=[1,2,3,1]\n",
        "print(Solution().rob(nums))"
      ],
      "metadata": {
        "colab": {
          "base_uri": "https://localhost:8080/"
        },
        "id": "jiyavINVz6yk",
        "outputId": "72d076a4-727f-4de1-e025-1e6ddced3e46"
      },
      "execution_count": 19,
      "outputs": [
        {
          "output_type": "stream",
          "name": "stdout",
          "text": [
            "4\n"
          ]
        }
      ]
    },
    {
      "cell_type": "code",
      "source": [
        "class Solution:\n",
        "  def longestPalindromeSubseq(self, s):\n",
        "    def dp(i, j):\n",
        "      if i>j:\n",
        "        return 0\n",
        "      if i==j:\n",
        "        return 1\n",
        "      if s[i]==s[j]:\n",
        "        return 2+dp(i+1,j-1)\n",
        "      return max(dp(i+1,j),dp(i,j-1))\n",
        "    return dp(0, len(s) - 1)\n",
        "\n",
        "s = input()\n",
        "Solution().longestPalindromeSubseq(s)"
      ],
      "metadata": {
        "colab": {
          "base_uri": "https://localhost:8080/"
        },
        "id": "2iuQNo5t0mxh",
        "outputId": "4226852a-8c79-4e33-bf4b-02d0b54d9685"
      },
      "execution_count": 20,
      "outputs": [
        {
          "name": "stdout",
          "output_type": "stream",
          "text": [
            "bbbab\n"
          ]
        },
        {
          "output_type": "execute_result",
          "data": {
            "text/plain": [
              "4"
            ]
          },
          "metadata": {},
          "execution_count": 20
        }
      ]
    }
  ]
}